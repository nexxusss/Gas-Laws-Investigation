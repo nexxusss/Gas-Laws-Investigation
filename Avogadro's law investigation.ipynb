{
 "cells": [
  {
   "cell_type": "code",
   "execution_count": 1,
   "id": "12f7ef74",
   "metadata": {},
   "outputs": [],
   "source": [
    "import pandas as pd\n",
    "import numpy as np\n",
    "import matplotlib.pyplot as plt\n",
    "from sklearn.linear_model import LinearRegression\n",
    "from sklearn.metrics import r2_score"
   ]
  },
  {
   "cell_type": "code",
   "execution_count": 5,
   "id": "75d36224",
   "metadata": {},
   "outputs": [],
   "source": [
    "data1 = pd.read_csv(\"NV_he_data.csv\")\n",
    "data2 = pd.read_csv(\"NV_ne_data.csv\")"
   ]
  },
  {
   "cell_type": "markdown",
   "id": "b455dc7a",
   "metadata": {},
   "source": [
    "## Data for Helium"
   ]
  },
  {
   "cell_type": "code",
   "execution_count": 25,
   "id": "ba644412",
   "metadata": {},
   "outputs": [
    {
     "data": {
      "text/html": [
       "<style type=\"text/css\">\n",
       "</style>\n",
       "<table id=\"T_29fa1\" style='display:inline'>\n",
       "  <caption>Data for helium</caption>\n",
       "  <thead>\n",
       "    <tr>\n",
       "      <th class=\"blank level0\" >&nbsp;</th>\n",
       "      <th id=\"T_29fa1_level0_col0\" class=\"col_heading level0 col0\" >#</th>\n",
       "      <th id=\"T_29fa1_level0_col1\" class=\"col_heading level0 col1\" >P</th>\n",
       "      <th id=\"T_29fa1_level0_col2\" class=\"col_heading level0 col2\" >V</th>\n",
       "      <th id=\"T_29fa1_level0_col3\" class=\"col_heading level0 col3\" >T</th>\n",
       "      <th id=\"T_29fa1_level0_col4\" class=\"col_heading level0 col4\" >n</th>\n",
       "    </tr>\n",
       "  </thead>\n",
       "  <tbody>\n",
       "    <tr>\n",
       "      <th id=\"T_29fa1_level0_row0\" class=\"row_heading level0 row0\" >0</th>\n",
       "      <td id=\"T_29fa1_row0_col0\" class=\"data row0 col0\" >1</td>\n",
       "      <td id=\"T_29fa1_row0_col1\" class=\"data row0 col1\" >1</td>\n",
       "      <td id=\"T_29fa1_row0_col2\" class=\"data row0 col2\" >0.000000</td>\n",
       "      <td id=\"T_29fa1_row0_col3\" class=\"data row0 col3\" >280</td>\n",
       "      <td id=\"T_29fa1_row0_col4\" class=\"data row0 col4\" >0.000000</td>\n",
       "    </tr>\n",
       "    <tr>\n",
       "      <th id=\"T_29fa1_level0_row1\" class=\"row_heading level0 row1\" >1</th>\n",
       "      <td id=\"T_29fa1_row1_col0\" class=\"data row1 col0\" >2</td>\n",
       "      <td id=\"T_29fa1_row1_col1\" class=\"data row1 col1\" >1</td>\n",
       "      <td id=\"T_29fa1_row1_col2\" class=\"data row1 col2\" >0.230000</td>\n",
       "      <td id=\"T_29fa1_row1_col3\" class=\"data row1 col3\" >280</td>\n",
       "      <td id=\"T_29fa1_row1_col4\" class=\"data row1 col4\" >0.010000</td>\n",
       "    </tr>\n",
       "    <tr>\n",
       "      <th id=\"T_29fa1_level0_row2\" class=\"row_heading level0 row2\" >2</th>\n",
       "      <td id=\"T_29fa1_row2_col0\" class=\"data row2 col0\" >3</td>\n",
       "      <td id=\"T_29fa1_row2_col1\" class=\"data row2 col1\" >1</td>\n",
       "      <td id=\"T_29fa1_row2_col2\" class=\"data row2 col2\" >0.460000</td>\n",
       "      <td id=\"T_29fa1_row2_col3\" class=\"data row2 col3\" >280</td>\n",
       "      <td id=\"T_29fa1_row2_col4\" class=\"data row2 col4\" >0.020000</td>\n",
       "    </tr>\n",
       "    <tr>\n",
       "      <th id=\"T_29fa1_level0_row3\" class=\"row_heading level0 row3\" >3</th>\n",
       "      <td id=\"T_29fa1_row3_col0\" class=\"data row3 col0\" >4</td>\n",
       "      <td id=\"T_29fa1_row3_col1\" class=\"data row3 col1\" >1</td>\n",
       "      <td id=\"T_29fa1_row3_col2\" class=\"data row3 col2\" >0.690000</td>\n",
       "      <td id=\"T_29fa1_row3_col3\" class=\"data row3 col3\" >280</td>\n",
       "      <td id=\"T_29fa1_row3_col4\" class=\"data row3 col4\" >0.030000</td>\n",
       "    </tr>\n",
       "    <tr>\n",
       "      <th id=\"T_29fa1_level0_row4\" class=\"row_heading level0 row4\" >4</th>\n",
       "      <td id=\"T_29fa1_row4_col0\" class=\"data row4 col0\" >5</td>\n",
       "      <td id=\"T_29fa1_row4_col1\" class=\"data row4 col1\" >1</td>\n",
       "      <td id=\"T_29fa1_row4_col2\" class=\"data row4 col2\" >1.150000</td>\n",
       "      <td id=\"T_29fa1_row4_col3\" class=\"data row4 col3\" >280</td>\n",
       "      <td id=\"T_29fa1_row4_col4\" class=\"data row4 col4\" >0.050000</td>\n",
       "    </tr>\n",
       "    <tr>\n",
       "      <th id=\"T_29fa1_level0_row5\" class=\"row_heading level0 row5\" >5</th>\n",
       "      <td id=\"T_29fa1_row5_col0\" class=\"data row5 col0\" >6</td>\n",
       "      <td id=\"T_29fa1_row5_col1\" class=\"data row5 col1\" >1</td>\n",
       "      <td id=\"T_29fa1_row5_col2\" class=\"data row5 col2\" >1.380000</td>\n",
       "      <td id=\"T_29fa1_row5_col3\" class=\"data row5 col3\" >280</td>\n",
       "      <td id=\"T_29fa1_row5_col4\" class=\"data row5 col4\" >0.060000</td>\n",
       "    </tr>\n",
       "    <tr>\n",
       "      <th id=\"T_29fa1_level0_row6\" class=\"row_heading level0 row6\" >6</th>\n",
       "      <td id=\"T_29fa1_row6_col0\" class=\"data row6 col0\" >7</td>\n",
       "      <td id=\"T_29fa1_row6_col1\" class=\"data row6 col1\" >1</td>\n",
       "      <td id=\"T_29fa1_row6_col2\" class=\"data row6 col2\" >1.610000</td>\n",
       "      <td id=\"T_29fa1_row6_col3\" class=\"data row6 col3\" >280</td>\n",
       "      <td id=\"T_29fa1_row6_col4\" class=\"data row6 col4\" >0.070000</td>\n",
       "    </tr>\n",
       "    <tr>\n",
       "      <th id=\"T_29fa1_level0_row7\" class=\"row_heading level0 row7\" >7</th>\n",
       "      <td id=\"T_29fa1_row7_col0\" class=\"data row7 col0\" >8</td>\n",
       "      <td id=\"T_29fa1_row7_col1\" class=\"data row7 col1\" >1</td>\n",
       "      <td id=\"T_29fa1_row7_col2\" class=\"data row7 col2\" >1.840000</td>\n",
       "      <td id=\"T_29fa1_row7_col3\" class=\"data row7 col3\" >280</td>\n",
       "      <td id=\"T_29fa1_row7_col4\" class=\"data row7 col4\" >0.080000</td>\n",
       "    </tr>\n",
       "    <tr>\n",
       "      <th id=\"T_29fa1_level0_row8\" class=\"row_heading level0 row8\" >8</th>\n",
       "      <td id=\"T_29fa1_row8_col0\" class=\"data row8 col0\" >9</td>\n",
       "      <td id=\"T_29fa1_row8_col1\" class=\"data row8 col1\" >1</td>\n",
       "      <td id=\"T_29fa1_row8_col2\" class=\"data row8 col2\" >2.070000</td>\n",
       "      <td id=\"T_29fa1_row8_col3\" class=\"data row8 col3\" >280</td>\n",
       "      <td id=\"T_29fa1_row8_col4\" class=\"data row8 col4\" >0.090000</td>\n",
       "    </tr>\n",
       "    <tr>\n",
       "      <th id=\"T_29fa1_level0_row9\" class=\"row_heading level0 row9\" >9</th>\n",
       "      <td id=\"T_29fa1_row9_col0\" class=\"data row9 col0\" >10</td>\n",
       "      <td id=\"T_29fa1_row9_col1\" class=\"data row9 col1\" >1</td>\n",
       "      <td id=\"T_29fa1_row9_col2\" class=\"data row9 col2\" >2.300000</td>\n",
       "      <td id=\"T_29fa1_row9_col3\" class=\"data row9 col3\" >280</td>\n",
       "      <td id=\"T_29fa1_row9_col4\" class=\"data row9 col4\" >0.100000</td>\n",
       "    </tr>\n",
       "    <tr>\n",
       "      <th id=\"T_29fa1_level0_row10\" class=\"row_heading level0 row10\" >10</th>\n",
       "      <td id=\"T_29fa1_row10_col0\" class=\"data row10 col0\" >11</td>\n",
       "      <td id=\"T_29fa1_row10_col1\" class=\"data row10 col1\" >1</td>\n",
       "      <td id=\"T_29fa1_row10_col2\" class=\"data row10 col2\" >0.230000</td>\n",
       "      <td id=\"T_29fa1_row10_col3\" class=\"data row10 col3\" >280</td>\n",
       "      <td id=\"T_29fa1_row10_col4\" class=\"data row10 col4\" >0.010000</td>\n",
       "    </tr>\n",
       "  </tbody>\n",
       "</table>\n"
      ],
      "text/plain": [
       "<pandas.io.formats.style.Styler at 0x7fb81941a9d0>"
      ]
     },
     "execution_count": 25,
     "metadata": {},
     "output_type": "execute_result"
    }
   ],
   "source": [
    "data1\n",
    "data1.set_caption('Data for helium')\n",
    "data1"
   ]
  },
  {
   "cell_type": "code",
   "execution_count": 12,
   "id": "5f03c6aa",
   "metadata": {},
   "outputs": [
    {
     "data": {
      "image/png": "[encoded data removed]",
      "text/plain": [
       "<Figure size 500x500 with 1 Axes>"
      ]
     },
     "metadata": {},
     "output_type": "display_data"
    }
   ],
   "source": [
    "plt.scatter(data1[\"n\"], data1[\"V\"])\n",
    "plt.title(\"Relation between n(mol) and V(L) for Helium\")\n",
    "plt.xlabel(\"n(mol)\")\n",
    "plt.ylabel(\"V(L)\")\n",
    "\n",
    "#adding the trend line\n",
    "z = np.polyfit(data1[\"n\"], data1[\"V\"], 1)\n",
    "p = np.poly1d(z)\n",
    "plt.plot(data1[\"n\"], p(data1[\"n\"]), \"r-o\")\n",
    "plt.gcf().set_size_inches((5, 5))  \n",
    "plt.show()"
   ]
  },
  {
   "cell_type": "code",
   "execution_count": 15,
   "id": "1f6e3e5a",
   "metadata": {},
   "outputs": [
    {
     "name": "stdout",
     "output_type": "stream",
     "text": [
      "Slope: [23.]\n",
      "equation fo the line: y = 23.0x + (0.0)\n",
      "R^2: 1.0\n"
     ]
    }
   ],
   "source": [
    "#finding the slope of the linear relation between n and V\n",
    "\n",
    "x = np.array(data1[\"n\"]).reshape(-1, 1)\n",
    "y = np.array(data1[\"V\"])\n",
    "\n",
    "lr = LinearRegression()\n",
    "lr.fit(x, y)\n",
    "\n",
    "coeff = lr.coef_\n",
    "inter = lr.intercept_\n",
    "# used for the trend line with y = coeff*x + inter\n",
    "print(f\"Slope: {coeff}\")\n",
    "#print(f\"Intercept: {inter}\") to be ignored\n",
    "print(f\"equation fo the line: y = {coeff[0]}x + ({inter - inter%0.01})\")\n",
    "print(f\"R^2: {r2_score(y, coeff*x)}\")"
   ]
  },
  {
   "cell_type": "markdown",
   "id": "2147ba6a",
   "metadata": {},
   "source": [
    "## Data for neon"
   ]
  },
  {
   "cell_type": "code",
   "execution_count": null,
   "id": "ea6ad400",
   "metadata": {},
   "outputs": [],
   "source": [
    "data2\n",
    "data2.set_caption('Data for neon')\n",
    "data2"
   ]
  },
  {
   "cell_type": "code",
   "execution_count": null,
   "id": "5c605596",
   "metadata": {},
   "outputs": [],
   "source": [
    "plt.scatter(data2[\"n\"], data2[\"V\"])\n",
    "plt.title(\"Relation between n(mol) and V(L) for Neon\")\n",
    "plt.xlabel(\"n(mol)\")\n",
    "plt.ylabel(\"V(L)\")\n",
    "\n",
    "#adding the trend line\n",
    "z = np.polyfit(data2[\"n\"], data2[\"V\"], 1)\n",
    "p = np.poly1d(z)\n",
    "plt.plot(data2[\"n\"], p(data2[\"n\"]), \"r-o\")\n",
    "plt.gcf().set_size_inches((5, 5))  \n",
    "plt.show()"
   ]
  },
  {
   "cell_type": "code",
   "execution_count": 24,
   "id": "618d2b51",
   "metadata": {},
   "outputs": [
    {
     "name": "stdout",
     "output_type": "stream",
     "text": [
      "Slope: [23.]\n",
      "equation fo the line: y = 23.000000000000004x + (0.0)\n",
      "R^2: 1.0\n"
     ]
    }
   ],
   "source": [
    "x = np.array(data2[\"n\"]).reshape(-1, 1)\n",
    "y = np.array(data2[\"V\"])\n",
    "\n",
    "lr = LinearRegression()\n",
    "lr.fit(x, y)\n",
    "\n",
    "coeff = lr.coef_\n",
    "inter = lr.intercept_\n",
    "# used for the trend line with y = coeff*x + inter\n",
    "print(f\"Slope: {coeff}\")\n",
    "\n",
    "print(f\"equation fo the line: y = {coeff[0]}x + ({inter - inter%0.01})\")\n",
    "print(f\"R^2: {r2_score(y, coeff*x)}\")"
   ]
  },
  {
   "cell_type": "code",
   "execution_count": null,
   "id": "b0120cee",
   "metadata": {},
   "outputs": [],
   "source": []
  }
 ],
 "metadata": {
  "kernelspec": {
   "display_name": "Python 3 (ipykernel)",
   "language": "python",
   "name": "python3"
  },
  "language_info": {
   "codemirror_mode": {
    "name": "ipython",
    "version": 3
   },
   "file_extension": ".py",
   "mimetype": "text/x-python",
   "name": "python",
   "nbconvert_exporter": "python",
   "pygments_lexer": "ipython3",
   "version": "3.9.13"
  }
 },
 "nbformat": 4,
 "nbformat_minor": 5
}
